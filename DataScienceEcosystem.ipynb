{
  "metadata": {
    "kernelspec": {
      "name": "python",
      "display_name": "Python (Pyodide)",
      "language": "python"
    },
    "language_info": {
      "codemirror_mode": {
        "name": "python",
        "version": 3
      },
      "file_extension": ".py",
      "mimetype": "text/x-python",
      "name": "python",
      "nbconvert_exporter": "python",
      "pygments_lexer": "ipython3",
      "version": "3.8"
    }
  },
  "nbformat_minor": 5,
  "nbformat": 4,
  "cells": [
    {
      "id": "1daa0cdf-4d44-4c1d-8900-98d0f4f545a8",
      "cell_type": "markdown",
      "source": "# Data Science Tools and Ecosystem #",
      "metadata": {}
    },
    {
      "id": "1c4a3a38-4ba9-4db0-acb2-a3f96e872aba",
      "cell_type": "markdown",
      "source": "In this notebook, Data Science Tools and Ecosystem are summarized.",
      "metadata": {}
    },
    {
      "id": "5e62d8cf-b5da-4688-8bfc-a839cf065d1a",
      "cell_type": "markdown",
      "source": "**Objectives:**\n\n- List popular languages for Data Science\n- List most useful libraries in data science\n- List some of data science tools\n- Present an example of a mathemathic operation",
      "metadata": {}
    },
    {
      "id": "a2a36187-b43f-495c-af34-5a0c526e90ca",
      "cell_type": "markdown",
      "source": "Some of the popular languages that Data Scientists use are:\n\n1 Python\n2 R\n3 SQL\n4 Julia\n5 Scala\n6 Javascript",
      "metadata": {}
    },
    {
      "id": "51dd0901-9bf9-4684-ba1d-85f8697757ea",
      "cell_type": "markdown",
      "source": "Some of the commonly used libraries used by Data Scientists include:\n\n1 Matplotlib\n2 Scipy\n3 Pandas\n4 Numpy\n5 Ggplot\n6 Tensorflow\n7 Scikit-learn",
      "metadata": {}
    },
    {
      "id": "e11ed5f6-7525-4e5b-aff6-3c932d39af35",
      "cell_type": "markdown",
      "source": "| Data Science Tools |\n|--------------------|\n| Visual Studio Code |\n| RStudio            |\n| IntelliJ           |\n| Google Colab       |",
      "metadata": {}
    },
    {
      "id": "4c6e743c-39e3-44d4-8c6e-f5829592a548",
      "cell_type": "markdown",
      "source": "### Below are a few examples of evaluating arithmetic expressions in Python",
      "metadata": {}
    },
    {
      "id": "6026fcea-98d3-4832-8db9-4e97adafdd9e",
      "cell_type": "code",
      "source": "(3*4)+5\n#This a simple arithmetic expression to mutiply then add integers",
      "metadata": {
        "trusted": true
      },
      "outputs": [
        {
          "execution_count": 7,
          "output_type": "execute_result",
          "data": {
            "text/plain": "17"
          },
          "metadata": {}
        }
      ],
      "execution_count": 7
    },
    {
      "id": "a776315d-29c2-475b-a34e-1f7baef45123",
      "cell_type": "code",
      "source": "200/60\n#This will convert 200 minutes to hours by diving by 60",
      "metadata": {
        "trusted": true
      },
      "outputs": [
        {
          "execution_count": 9,
          "output_type": "execute_result",
          "data": {
            "text/plain": "3.3333333333333335"
          },
          "metadata": {}
        }
      ],
      "execution_count": 9
    },
    {
      "id": "9f7be9dd-b3f5-45b6-b6ab-3bda789bbe78",
      "cell_type": "markdown",
      "source": "## Author: ##\nMiguel Castillo",
      "metadata": {}
    },
    {
      "id": "45692a13-2242-449e-aac8-85e504cbbf96",
      "cell_type": "code",
      "source": "",
      "metadata": {
        "trusted": true
      },
      "outputs": [],
      "execution_count": null
    }
  ]
}